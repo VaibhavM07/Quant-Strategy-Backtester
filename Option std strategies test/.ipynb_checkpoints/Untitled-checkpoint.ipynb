{
 "cells": [
  {
   "cell_type": "code",
   "execution_count": 1,
   "metadata": {},
   "outputs": [
    {
     "ename": "SyntaxError",
     "evalue": "expected '(' (2411111557.py, line 1)",
     "output_type": "error",
     "traceback": [
      "\u001b[0;36m  Cell \u001b[0;32mIn [1], line 1\u001b[0;36m\u001b[0m\n\u001b[0;31m    def discount_factor = 1 / ((1 + coupon_rate) ** time_to_maturity)\u001b[0m\n\u001b[0m                        ^\u001b[0m\n\u001b[0;31mSyntaxError\u001b[0m\u001b[0;31m:\u001b[0m expected '('\n"
     ]
    }
   ],
   "source": [
    "def discount_factor = 1 / ((1 + coupon_rate) ** time_to_maturity)\n",
    "    coupon_payment = coupon_rate * face_value\n",
    "    present_value_coupons = coupon_payment * ((1 - discount_factor) / coupon_rate)\n",
    "    present_value_face_value = face_value * discount_factor\n",
    "\n",
    "    bond_price = present_value_coupons + present_value_face_value\n",
    "    return bond_pricediscount_factor = 1 / ((1 + coupon_rate) ** time_to_maturity)\n",
    "    coupon_payment = coupon_rate * face_value\n",
    "    present_value_coupons = coupon_payment * ((1 - discount_factor) / coupon_rate)\n",
    "    present_value_face_value = face_value * discount_factor\n",
    "\n",
    "    bond_price = present_value_coupons + present_value_face_value\n",
    "    return bond_price"
   ]
  },
  {
   "cell_type": "code",
   "execution_count": 2,
   "metadata": {},
   "outputs": [
    {
     "ename": "SyntaxError",
     "evalue": "invalid syntax (2896231275.py, line 1)",
     "output_type": "error",
     "traceback": [
      "\u001b[0;36m  Cell \u001b[0;32mIn [2], line 1\u001b[0;36m\u001b[0m\n\u001b[0;31m    def price (coupon_rate, maturity_ period, face_value, time_to_ maturity)\u001b[0m\n\u001b[0m                                      ^\u001b[0m\n\u001b[0;31mSyntaxError\u001b[0m\u001b[0;31m:\u001b[0m invalid syntax\n"
     ]
    }
   ],
   "source": [
    "def price (coupon_rate, maturity_ period, face_value, time_to_ maturity)"
   ]
  },
  {
   "cell_type": "code",
   "execution_count": null,
   "metadata": {},
   "outputs": [],
   "source": [
    "def price (coupon_rate, maturity_ period, face_value, time_to_ maturity):\n",
    "    \n",
    "    discount_factor = 1 / ((1 + coupon_rate) ** time_to_maturity)\n",
    "    coupon_payment = coupon_rate * face_value\n",
    "    present_value_coupons = coupon_payment * ((1 - discount_factor) / coupon_rate)\n",
    "    present_value_face_value = face_value * discount_factor\n",
    "\n",
    "    bond_price = present_value_coupons + present_value_face_value\n",
    "    return bond_pricediscount_factor = 1 / ((1 + coupon_rate) ** time_to_maturity)\n",
    "    coupon_payment = coupon_rate * face_value\n",
    "    present_value_coupons = coupon_payment * ((1 - discount_factor) / coupon_rate)\n",
    "    present_value_face_value = face_value * discount_factor\n",
    "\n",
    "    bond_price = present_value_coupons + present_value_face_value\n",
    "    return bond_price\n",
    "    "
   ]
  }
 ],
 "metadata": {
  "kernelspec": {
   "display_name": "Python 3 (ipykernel)",
   "language": "python",
   "name": "python3"
  },
  "language_info": {
   "codemirror_mode": {
    "name": "ipython",
    "version": 3
   },
   "file_extension": ".py",
   "mimetype": "text/x-python",
   "name": "python",
   "nbconvert_exporter": "python",
   "pygments_lexer": "ipython3",
   "version": "3.11.0"
  }
 },
 "nbformat": 4,
 "nbformat_minor": 2
}
